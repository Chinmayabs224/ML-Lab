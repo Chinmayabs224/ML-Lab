{
 "cells": [
  {
   "cell_type": "markdown",
   "metadata": {},
   "source": [
    "<!-- Markdown for Jupyter Notebook -->\n",
    "\n",
    "<h1 style=\"background: linear-gradient(to right, #49A, #0FB); color: white; padding: 20px;\">Program Implementation: Candidate-Elimination Algorithm</h1>\n",
    "\n",
    "<ol start=\"2\">\n",
    "    <li>For a given set of training data examples  implement and demonstrate the Candidate-Elimination algorithm to output a description of the set of all hypotheses consistent with the training examples.</li>\n",
    "</ol>\n",
    "\n"
   ]
  },
  {
   "cell_type": "code",
   "execution_count": 7,
   "metadata": {},
   "outputs": [
    {
     "name": "stdout",
     "output_type": "stream",
     "text": [
      "Specific Hypothesis: ['Sunny' 'Warm' '?' 'Strong' '?' '?']\n",
      "General Hypotheses:\n",
      "['Sunny', '?', '?', '?', '?', '?']\n",
      "['?', 'Warm', '?', '?', '?', '?']\n"
     ]
    }
   ],
   "source": [
    "import numpy as np\n",
    "\n",
    "def candidate_elimination(training_data):\n",
    "    # Extract features and labels\n",
    "    features = training_data[:, :-1]\n",
    "    labels = training_data[:, -1]\n",
    "    \n",
    "    # Initialize specific and general hypotheses\n",
    "    specific_h = features[0].copy()\n",
    "    general_h = [[\"?\" for _ in range(len(specific_h))] for _ in range(len(specific_h))]\n",
    "    \n",
    "    for i, instance in enumerate(features):\n",
    "        if labels[i] == \"Yes\":  # Positive instance\n",
    "            for x in range(len(specific_h)):\n",
    "                if specific_h[x] != instance[x]:\n",
    "                    specific_h[x] = \"?\"\n",
    "                    general_h[x][x] = \"?\"\n",
    "        else:  # Negative instance\n",
    "            for x in range(len(instance)):\n",
    "                if specific_h[x] != instance[x]:\n",
    "                    general_h[x][x] = specific_h[x]\n",
    "                else:\n",
    "                    general_h[x][x] = \"?\"\n",
    "    \n",
    "    # Remove duplicates in general_h\n",
    "    general_h = [hypothesis for hypothesis in general_h if any(feature != \"?\" for feature in hypothesis)]\n",
    "    \n",
    "    return specific_h, general_h\n",
    "\n",
    "# Example dataset\n",
    "training_data = np.array([\n",
    "    [\"Sunny\", \"Warm\", \"Normal\", \"Strong\", \"Warm\", \"Same\", \"Yes\"],\n",
    "    [\"Sunny\", \"Warm\", \"High\", \"Strong\", \"Warm\", \"Same\", \"Yes\"],\n",
    "    [\"Rainy\", \"Cold\", \"High\", \"Strong\", \"Warm\", \"Change\", \"No\"],\n",
    "    [\"Sunny\", \"Warm\", \"High\", \"Strong\", \"Cool\", \"Change\", \"Yes\"]\n",
    "])\n",
    "\n",
    "# Run the algorithm\n",
    "specific_h, general_h = candidate_elimination(training_data)\n",
    "\n",
    "# Output results\n",
    "print(\"Specific Hypothesis:\", specific_h)\n",
    "print(\"General Hypotheses:\")\n",
    "for g in general_h:\n",
    "    print(g)\n"
   ]
  }
 ],
 "metadata": {
  "kernelspec": {
   "display_name": "Python 3",
   "language": "python",
   "name": "python3"
  },
  "language_info": {
   "codemirror_mode": {
    "name": "ipython",
    "version": 3
   },
   "file_extension": ".py",
   "mimetype": "text/x-python",
   "name": "python",
   "nbconvert_exporter": "python",
   "pygments_lexer": "ipython3",
   "version": "3.12.3"
  }
 },
 "nbformat": 4,
 "nbformat_minor": 2
}
