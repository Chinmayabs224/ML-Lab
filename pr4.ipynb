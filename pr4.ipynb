{
 "cells": [
  {
   "cell_type": "markdown",
   "metadata": {},
   "source": [
    "\n",
    "<h1 style=\"background: linear-gradient(to right, #49A, #0FB); color: white; padding: 20px;\">Program 4 Implementation: Artificial Neural Network</h1>\n",
    "\n",
    "<ol start=\"4\">\n",
    "    <li>Build an Artificial Neural Network by implementing the Backpropagation \n",
    "algorithm and test the same using appropriate data sets.  </li>\n",
    "</ol>\n",
    "\n"
   ]
  },
  {
   "cell_type": "code",
   "execution_count": 9,
   "metadata": {},
   "outputs": [
    {
     "name": "stdout",
     "output_type": "stream",
     "text": [
      "Epoch 0, Loss: 0.3929\n",
      "Epoch 100, Loss: 0.1074\n",
      "Epoch 200, Loss: 0.0881\n",
      "Epoch 300, Loss: 0.0683\n",
      "Epoch 400, Loss: 0.0478\n",
      "Test Accuracy: 95.56%\n"
     ]
    }
   ],
   "source": [
    "import numpy as np\n",
    "from sklearn.datasets import load_iris\n",
    "from sklearn.model_selection import train_test_split\n",
    "from sklearn.preprocessing import OneHotEncoder, StandardScaler\n",
    "\n",
    "# Helper functions\n",
    "def sigmoid(x): return 1 / (1 + np.exp(-x))\n",
    "def sigmoid_derivative(x): return x * (1 - x)\n",
    "\n",
    "# Load and preprocess the Iris dataset\n",
    "def load_and_preprocess_iris():\n",
    "    iris = load_iris()\n",
    "    X, y = iris.data, iris.target.reshape(-1, 1)\n",
    "    y = OneHotEncoder(sparse_output=False).fit_transform(y)\n",
    "    X = StandardScaler().fit_transform(X)\n",
    "    return train_test_split(X, y, test_size=0.3, random_state=64)\n",
    "\n",
    "# Initialize the neural network\n",
    "def init_net(input_dim, hidden_dim, output_dim):\n",
    "    np.random.seed(42)\n",
    "    return (np.random.rand(input_dim, hidden_dim), \n",
    "            np.random.rand(hidden_dim, output_dim), \n",
    "            np.zeros((1, hidden_dim)), \n",
    "            np.zeros((1, output_dim)))\n",
    "\n",
    "# Forward pass\n",
    "def forward_pass(X, w_inh, w_ho, b_h, b_o):\n",
    "    h_in = np.dot(X, w_inh) + b_h\n",
    "    h_out = sigmoid(h_in)\n",
    "    o_in = np.dot(h_out, w_ho) + b_o\n",
    "    o_out = sigmoid(o_in)\n",
    "    return h_out, o_out\n",
    "\n",
    "# Backward pass\n",
    "def backward_pass(X, y, h_out, o_out, w_ho):\n",
    "    e = o_out - y\n",
    "    g_o = e * sigmoid_derivative(o_out)\n",
    "    e_h = np.dot(g_o, w_ho.T)\n",
    "    g_h = e_h * sigmoid_derivative(h_out)\n",
    "    return g_o, g_h\n",
    "\n",
    "# Update weights\n",
    "def update_weights(X, h_out, g_o, g_h, w_inh, w_ho, b_h, b_o, lr):\n",
    "    w_ho -= lr * np.dot(h_out.T, g_o)\n",
    "    b_o -= lr * np.sum(g_o, axis=0, keepdims=True)\n",
    "    w_inh -= lr * np.dot(X.T, g_h)\n",
    "    b_h -= lr * np.sum(g_h, axis=0, keepdims=True)\n",
    "    return w_inh, w_ho, b_h, b_o\n",
    "\n",
    "# Train the neural network\n",
    "def train_ann(X_train, y_train, input_dim, hidden_dim, output_dim, epochs, lr):\n",
    "    w_inh, w_ho, b_h, b_o = init_net(input_dim, hidden_dim, output_dim)\n",
    "    for epoch in range(epochs):\n",
    "        h_out, o_out = forward_pass(X_train, w_inh, w_ho, b_h, b_o)\n",
    "        g_o, g_h = backward_pass(X_train, y_train, h_out, o_out, w_ho)\n",
    "        w_inh, w_ho, b_h, b_o = update_weights(X_train, h_out, g_o, g_h, w_inh, w_ho, b_h, b_o, lr)\n",
    "        if epoch % 100 == 0: print(f\"Epoch {epoch}, Loss: {np.mean((y_train - o_out) ** 2):.4f}\")\n",
    "    return w_inh, w_ho, b_h, b_o\n",
    "\n",
    "# Test the neural network\n",
    "def test_ann(X_test, y_test, w_inh, w_ho, b_h, b_o):\n",
    "    _, o_out = forward_pass(X_test, w_inh, w_ho, b_h, b_o)\n",
    "    preds = np.argmax(o_out, axis=1)\n",
    "    true_labels = np.argmax(y_test, axis=1)\n",
    "    acc = np.mean(preds == true_labels) * 100\n",
    "    print(f\"Test Accuracy: {acc:.2f}%\")\n",
    "\n",
    "# Main function\n",
    "def main():\n",
    "    X_train, X_test, y_train, y_test = load_and_preprocess_iris()\n",
    "    input_dim, hidden_dim, output_dim = X_train.shape[1], 5, y_train.shape[1]\n",
    "    epochs, lr = 500, 0.01\n",
    "    w_inh, w_ho, b_h, b_o = train_ann(X_train, y_train, input_dim, hidden_dim, output_dim, epochs, lr)\n",
    "    test_ann(X_test, y_test, w_inh, w_ho, b_h, b_o)\n",
    "\n",
    "if __name__ == \"__main__\":\n",
    "    main()\n"
   ]
  }
 ],
 "metadata": {
  "kernelspec": {
   "display_name": "Python 3",
   "language": "python",
   "name": "python3"
  },
  "language_info": {
   "codemirror_mode": {
    "name": "ipython",
    "version": 3
   },
   "file_extension": ".py",
   "mimetype": "text/x-python",
   "name": "python",
   "nbconvert_exporter": "python",
   "pygments_lexer": "ipython3",
   "version": "3.12.3"
  }
 },
 "nbformat": 4,
 "nbformat_minor": 2
}
