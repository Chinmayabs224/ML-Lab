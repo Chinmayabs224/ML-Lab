{
 "cells": [
  {
   "cell_type": "markdown",
   "metadata": {},
   "source": [
    "\n",
    "<h1 style=\"background: linear-gradient(to right, #49A, #0FB); color: white; padding: 20px;\">Program 4 Implementation: Artificial Neural Network</h1>\n",
    "\n",
    "<ol start=\"4\">\n",
    "    <li>Build an Artificial Neural Network by implementing the Backpropagation \n",
    "algorithm and test the same using appropriate data sets.  </li>\n",
    "</ol>\n",
    "\n"
   ]
  },
  {
   "cell_type": "code",
   "execution_count": 1,
   "metadata": {},
   "outputs": [
    {
     "name": "stdout",
     "output_type": "stream",
     "text": [
      "Epoch 0, Loss: 0.3929\n",
      "Epoch 100, Loss: 0.1074\n",
      "Epoch 200, Loss: 0.0881\n",
      "Epoch 300, Loss: 0.0683\n",
      "Epoch 400, Loss: 0.0478\n",
      "Test Accuracy: 95.56%\n"
     ]
    }
   ],
   "source": [
    "import numpy as np\n",
    "from sklearn.datasets import load_iris\n",
    "from sklearn.model_selection import train_test_split\n",
    "from sklearn.preprocessing import OneHotEncoder, StandardScaler\n",
    "\n",
    "# Activation functions\n",
    "sigmoid = lambda x: 1 / (1 + np.exp(-x))\n",
    "sigmoid_derivative = lambda x: x * (1 - x)\n",
    "\n",
    "# Preprocess data\n",
    "iris = load_iris()\n",
    "X, y = StandardScaler().fit_transform(iris.data), OneHotEncoder(sparse_output=False).fit_transform(iris.target.reshape(-1, 1))\n",
    "X_train, X_test, y_train, y_test = train_test_split(X, y, test_size=0.3, random_state=64)\n",
    "\n",
    "# Initialize network\n",
    "np.random.seed(42)\n",
    "w_inh, w_ho = np.random.rand(4, 5), np.random.rand(5, 3)\n",
    "b_h, b_o = np.zeros((1, 5)), np.zeros((1, 3))\n",
    "\n",
    "# Train\n",
    "for epoch in range(500):\n",
    "    h_out = sigmoid(np.dot(X_train, w_inh) + b_h)\n",
    "    o_out = sigmoid(np.dot(h_out, w_ho) + b_o)\n",
    "    g_o = (o_out - y_train) * sigmoid_derivative(o_out)\n",
    "    g_h = np.dot(g_o, w_ho.T) * sigmoid_derivative(h_out)\n",
    "    w_ho -= 0.01 * np.dot(h_out.T, g_o)\n",
    "    b_o -= 0.01 * np.sum(g_o, axis=0, keepdims=True)\n",
    "    w_inh -= 0.01 * np.dot(X_train.T, g_h)\n",
    "    b_h -= 0.01 * np.sum(g_h, axis=0, keepdims=True)\n",
    "    if epoch % 100 == 0: print(f\"Epoch {epoch}, Loss: {np.mean((y_train - o_out) ** 2):.4f}\")\n",
    "\n",
    "# Test\n",
    "h_out = sigmoid(np.dot(X_test, w_inh) + b_h)\n",
    "o_out = sigmoid(np.dot(h_out, w_ho) + b_o)\n",
    "acc = np.mean(np.argmax(o_out, axis=1) == np.argmax(y_test, axis=1)) * 100\n",
    "print(f\"Test Accuracy: {acc:.2f}%\")\n"
   ]
  }
 ],
 "metadata": {
  "kernelspec": {
   "display_name": "Python 3",
   "language": "python",
   "name": "python3"
  },
  "language_info": {
   "codemirror_mode": {
    "name": "ipython",
    "version": 3
   },
   "file_extension": ".py",
   "mimetype": "text/x-python",
   "name": "python",
   "nbconvert_exporter": "python",
   "pygments_lexer": "ipython3",
   "version": "3.12.3"
  }
 },
 "nbformat": 4,
 "nbformat_minor": 2
}
