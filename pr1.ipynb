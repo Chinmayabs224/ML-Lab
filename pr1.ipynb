{
 "cells": [
  {
   "cell_type": "markdown",
   "id": "c767632e",
   "metadata": {},
   "source": [
    "<!-- Markdown for Jupyter Notebook -->\n",
    "\n",
    "<h1 style=\"background: linear-gradient(to right, #49A, #0FB); color: white; padding: 20px;\"> Program 1 Implementation: Find-S Algorithm</h1>\n",
    "\n",
    "<ol start=\"1\">\n",
    "    <li>For a given set of training data examples, implement and demonstrate the Find-S algorithm to output a description of the set of all hypotheses consistent with the training examples.</li>\n",
    "</ol>"
   ]
  },
  {
   "cell_type": "code",
   "execution_count": 1,
   "id": "9bc80636",
   "metadata": {},
   "outputs": [
    {
     "name": "stdout",
     "output_type": "stream",
     "text": [
      "Initial Most Specific Hypothesis: ['Sunny', 'Warm', 'Normal', 'Strong', 'Warm', 'Same']\n",
      "Example: ['Sunny', 'Warm', 'Normal', 'Strong', 'Warm', 'Same'], Target: Yes\n",
      "General Hypothesis: ['Sunny', 'Warm', 'Normal', 'Strong', 'Warm', 'Same']\n",
      "Example: ['Sunny', 'Warm', 'High', 'Strong', 'Warm', 'Same'], Target: Yes\n",
      "General Hypothesis: ['Sunny', 'Warm', '?', 'Strong', 'Warm', 'Same']\n",
      "Example: ['Sunny', 'Warm', 'High', 'Strong', 'Cool', 'Change'], Target: Yes\n",
      "General Hypothesis: ['Sunny', 'Warm', '?', 'Strong', '?', '?']\n",
      "Final Hypothesis: ['Sunny', 'Warm', '?', 'Strong', '?', '?']\n"
     ]
    }
   ],
   "source": [
    "def find_s(data):\n",
    "    # Initialize hypothesis with the first positive example\n",
    "    hypothesis = data[0][:-1]\n",
    "    print(\"Initial Most Specific Hypothesis:\", hypothesis)\n",
    "    \n",
    "    # Iterate through each example\n",
    "    for example in data:\n",
    "        if example[-1] == \"Yes\":\n",
    "            # Generalize the hypothesis\n",
    "            hypothesis = [h if h == x else \"?\" for h, x in zip(hypothesis, example[:-1])]\n",
    "            print(f\"Example: {example[:-1]}, Target: {example[-1]}\")\n",
    "            print(\"General Hypothesis:\", hypothesis)\n",
    "\n",
    "    return hypothesis\n",
    "\n",
    "# Example dataset\n",
    "training_data = [\n",
    "    [\"Sunny\", \"Warm\", \"Normal\", \"Strong\", \"Warm\", \"Same\", \"Yes\"],\n",
    "    [\"Sunny\", \"Warm\", \"High\", \"Strong\", \"Warm\", \"Same\", \"Yes\"],\n",
    "    [\"Rainy\", \"Cold\", \"High\", \"Strong\", \"Warm\", \"Change\", \"No\"],\n",
    "    [\"Sunny\", \"Warm\", \"High\", \"Strong\", \"Cool\", \"Change\", \"Yes\"],\n",
    "]\n",
    "\n",
    "# Execute Find-S algorithm\n",
    "final_hypothesis = find_s(training_data)\n",
    "print(\"Final Hypothesis:\", final_hypothesis)"
   ]
  }
 ],
 "metadata": {
  "kernelspec": {
   "display_name": "Python 3",
   "language": "python",
   "name": "python3"
  },
  "language_info": {
   "codemirror_mode": {
    "name": "ipython",
    "version": 3
   },
   "file_extension": ".py",
   "mimetype": "text/x-python",
   "name": "python",
   "nbconvert_exporter": "python",
   "pygments_lexer": "ipython3",
   "version": "3.12.3"
  }
 },
 "nbformat": 4,
 "nbformat_minor": 5
}
