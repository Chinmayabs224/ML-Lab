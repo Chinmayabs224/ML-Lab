{
 "cells": [
  {
   "cell_type": "markdown",
   "metadata": {},
   "source": [
    "\n",
    "<h1 style=\"background: linear-gradient(to right, #49A, #0FB); color: white; padding: 20px;\">Program 7 Implementation: EM vs K-means clustering</h1>\n",
    "\n",
    "<ol start=\"7\">\n",
    "    <li>Apply EM algorithm to cluster a set of data stored in a .CSV file. Use the same \n",
    "data set for clustering using k-Means algorithm. Compare the results of these two \n",
    "algorithms and comment on the quality of clustering. You can add Python ML \n",
    "library classes/API in the program   </li>\n",
    "</ol>\n",
    "\n"
   ]
  },
  {
   "cell_type": "code",
   "execution_count": 1,
   "metadata": {},
   "outputs": [
    {
     "name": "stdout",
     "output_type": "stream",
     "text": [
      "Adjusted Rand Index:\n",
      "k-Means: 0.433\n",
      "Gaussian Mixture Model (EM): 0.516\n",
      "Gaussian Mixture Model (EM) produced better clustering quality based on ARI.\n"
     ]
    }
   ],
   "source": [
    "import pandas as pd\n",
    "import numpy as np\n",
    "from sklearn.datasets import load_iris\n",
    "from sklearn.cluster import KMeans\n",
    "from sklearn.mixture import GaussianMixture\n",
    "from sklearn.metrics import adjusted_rand_score\n",
    "from sklearn.preprocessing import StandardScaler\n",
    "\n",
    "# Load the Iris dataset\n",
    "iris = load_iris()\n",
    "data = iris.data  # Features\n",
    "target = iris.target  # True labels\n",
    "\n",
    "# Standardize the data\n",
    "scaler = StandardScaler()\n",
    "data_scaled = scaler.fit_transform(data)\n",
    "\n",
    "# Apply k-Means clustering\n",
    "kmeans = KMeans(n_clusters=3, random_state=42)\n",
    "kmeans_labels = kmeans.fit_predict(data_scaled)\n",
    "\n",
    "# Apply EM clustering (Gaussian Mixture Model)\n",
    "gmm = GaussianMixture(n_components=3, random_state=42)\n",
    "gmm_labels = gmm.fit_predict(data_scaled)\n",
    "\n",
    "# Evaluate the clustering quality using Adjusted Rand Index (ARI)\n",
    "kmeans_ari = adjusted_rand_score(target, kmeans_labels)\n",
    "gmm_ari = adjusted_rand_score(target, gmm_labels)\n",
    "\n",
    "# Print results\n",
    "print(\"Adjusted Rand Index:\")\n",
    "print(f\"k-Means: {kmeans_ari:.3f}\")\n",
    "print(f\"Gaussian Mixture Model (EM): {gmm_ari:.3f}\")\n",
    "\n",
    "# Compare clustering quality\n",
    "if kmeans_ari > gmm_ari:\n",
    "    print(\"k-Means produced better clustering quality based on ARI.\")\n",
    "elif kmeans_ari < gmm_ari:\n",
    "    print(\"Gaussian Mixture Model (EM) produced better clustering quality based on ARI.\")\n",
    "else:\n",
    "    print(\"Both algorithms produced the same clustering quality based on ARI.\")\n"
   ]
  },
  {
   "cell_type": "code",
   "execution_count": 2,
   "metadata": {},
   "outputs": [
    {
     "name": "stdout",
     "output_type": "stream",
     "text": [
      "Adjusted Rand Index (ARI):\n",
      "GMM: 0.9039\n",
      "k-Means: 0.7163\n",
      "\n",
      "Silhouette Scores:\n",
      "GMM: 0.5012\n",
      "k-Means: 0.5512\n",
      "\n",
      "GMM provides better clustering based on ARI.\n",
      "k-Means provides better clustering based on Silhouette Score.\n"
     ]
    }
   ],
   "source": [
    "import pandas as pd\n",
    "import numpy as np\n",
    "from sklearn.mixture import GaussianMixture\n",
    "from sklearn.cluster import KMeans\n",
    "from sklearn.metrics import adjusted_rand_score, silhouette_score\n",
    "from sklearn.datasets import load_iris\n",
    "\n",
    "# Load Iris dataset\n",
    "data = load_iris()\n",
    "df = pd.DataFrame(data.data, columns=data.feature_names)\n",
    "labels_true = data.target\n",
    "\n",
    "# Apply Gaussian Mixture Model (EM Algorithm)\n",
    "gmm = GaussianMixture(n_components=3, random_state=42)\n",
    "gmm_labels = gmm.fit_predict(df)\n",
    "\n",
    "# Apply k-Means Algorithm\n",
    "kmeans = KMeans(n_clusters=3, random_state=42)\n",
    "kmeans_labels = kmeans.fit_predict(df)\n",
    "\n",
    "# Evaluate the results\n",
    "ari_gmm = adjusted_rand_score(labels_true, gmm_labels)\n",
    "ari_kmeans = adjusted_rand_score(labels_true, kmeans_labels)\n",
    "\n",
    "silhouette_gmm = silhouette_score(df, gmm_labels)\n",
    "silhouette_kmeans = silhouette_score(df, kmeans_labels)\n",
    "\n",
    "# Print results\n",
    "print(\"Adjusted Rand Index (ARI):\")\n",
    "print(f\"GMM: {ari_gmm:.4f}\")\n",
    "print(f\"k-Means: {ari_kmeans:.4f}\\n\")\n",
    "\n",
    "print(\"Silhouette Scores:\")\n",
    "print(f\"GMM: {silhouette_gmm:.4f}\")\n",
    "print(f\"k-Means: {silhouette_kmeans:.4f}\\n\")\n",
    "\n",
    "# Compare and comment\n",
    "if ari_gmm > ari_kmeans:\n",
    "    print(\"GMM provides better clustering based on ARI.\")\n",
    "else:\n",
    "    print(\"k-Means provides better clustering based on ARI.\")\n",
    "\n",
    "if silhouette_gmm > silhouette_kmeans:\n",
    "    print(\"GMM provides better clustering based on Silhouette Score.\")\n",
    "else:\n",
    "    print(\"k-Means provides better clustering based on Silhouette Score.\")\n"
   ]
  }
 ],
 "metadata": {
  "kernelspec": {
   "display_name": "Python 3",
   "language": "python",
   "name": "python3"
  },
  "language_info": {
   "codemirror_mode": {
    "name": "ipython",
    "version": 3
   },
   "file_extension": ".py",
   "mimetype": "text/x-python",
   "name": "python",
   "nbconvert_exporter": "python",
   "pygments_lexer": "ipython3",
   "version": "3.12.3"
  }
 },
 "nbformat": 4,
 "nbformat_minor": 2
}
