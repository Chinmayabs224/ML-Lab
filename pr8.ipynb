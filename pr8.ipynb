{
 "cells": [
  {
   "cell_type": "markdown",
   "metadata": {},
   "source": [
    "\n",
    "<h1 style=\"background: linear-gradient(to right, #49A, #0FB); color: white; padding: 20px;\">Program 8 Implementation: k-Nearest Neighbor algorithm</h1>\n",
    "\n",
    "<ol start=\"8\">\n",
    "    <li>Write a program to implement k-Nearest Neighbor algorithm to classify the iris \n",
    "data set. Print both correct and wrong predictions. Java/Python ML library classes \n",
    "can be used for this problem   </li>\n",
    "</ol>\n",
    "\n"
   ]
  },
  {
   "cell_type": "code",
   "execution_count": 5,
   "metadata": {},
   "outputs": [
    {
     "name": "stdout",
     "output_type": "stream",
     "text": [
      "Accuracy: 0.97\n",
      "\n",
      "Correct Predictions:\n",
      "Data: [5.6 2.7 4.2 1.3], Predicted: versicolor\n",
      "Data: [5.8 2.7 4.1 1. ], Predicted: versicolor\n",
      "Data: [5.6 3.  4.1 1.3], Predicted: versicolor\n",
      "Data: [4.3 3.  1.1 0.1], Predicted: setosa\n",
      "Data: [4.7 3.2 1.6 0.2], Predicted: setosa\n",
      "Data: [5.2 3.4 1.4 0.2], Predicted: setosa\n",
      "Data: [5.  3.4 1.5 0.2], Predicted: setosa\n",
      "Data: [5.5 2.6 4.4 1.2], Predicted: versicolor\n",
      "Data: [6.3 3.3 6.  2.5], Predicted: virginica\n",
      "Data: [7.6 3.  6.6 2.1], Predicted: virginica\n",
      "Data: [6.6 2.9 4.6 1.3], Predicted: versicolor\n",
      "Data: [5.1 3.5 1.4 0.3], Predicted: setosa\n",
      "Data: [5.1 3.3 1.7 0.5], Predicted: setosa\n",
      "Data: [5.6 2.5 3.9 1.1], Predicted: versicolor\n",
      "Data: [6.4 3.1 5.5 1.8], Predicted: virginica\n",
      "Data: [4.8 3.1 1.6 0.2], Predicted: setosa\n",
      "Data: [6.8 2.8 4.8 1.4], Predicted: versicolor\n",
      "Data: [7.2 3.  5.8 1.6], Predicted: virginica\n",
      "Data: [6.7 3.3 5.7 2.5], Predicted: virginica\n",
      "Data: [5.4 3.9 1.7 0.4], Predicted: setosa\n",
      "Data: [5.1 3.8 1.5 0.3], Predicted: setosa\n",
      "Data: [7.  3.2 4.7 1.4], Predicted: versicolor\n",
      "Data: [5.5 4.2 1.4 0.2], Predicted: setosa\n",
      "Data: [6.4 3.2 5.3 2.3], Predicted: virginica\n",
      "Data: [5.6 2.8 4.9 2. ], Predicted: virginica\n",
      "Data: [5.8 2.7 5.1 1.9], Predicted: virginica\n",
      "Data: [6.7 3.  5.2 2.3], Predicted: virginica\n",
      "Data: [5.4 3.  4.5 1.5], Predicted: versicolor\n",
      "Data: [6.9 3.1 5.4 2.1], Predicted: virginica\n",
      "\n",
      "Wrong Predictions:\n",
      "Data: [6.  2.7 5.1 1.6], Predicted: virginica, Actual: versicolor\n"
     ]
    }
   ],
   "source": [
    "from sklearn.datasets import load_iris\n",
    "from sklearn.model_selection import train_test_split\n",
    "from sklearn.neighbors import KNeighborsClassifier\n",
    "from sklearn.metrics import accuracy_score\n",
    "\n",
    "# Load and split the Iris dataset\n",
    "data = load_iris()\n",
    "X, y = data.data, data.target\n",
    "X_train, X_test, y_train, y_test = train_test_split(X, y, test_size=0.2, random_state=64)\n",
    "\n",
    "# Train and predict using k-NN classifier\n",
    "k = 3\n",
    "knn = KNeighborsClassifier(n_neighbors=k)\n",
    "knn.fit(X_train, y_train)\n",
    "y_pred = knn.predict(X_test)\n",
    "\n",
    "# Calculate accuracy\n",
    "accuracy = accuracy_score(y_test, y_pred)\n",
    "print(f\"Accuracy: {accuracy:.2f}\")\n",
    "\n",
    "# Print predictions\n",
    "predictions = [(x, pred, actual) for x, pred, actual in zip(X_test, y_pred, y_test)]\n",
    "correct_predictions = [p for p in predictions if p[1] == p[2]]\n",
    "wrong_predictions = [p for p in predictions if p[1] != p[2]]\n",
    "\n",
    "print(\"\\nCorrect Predictions:\")\n",
    "for x, pred, actual in correct_predictions:\n",
    "    print(f\"Data: {x}, Predicted: {data.target_names[pred]}\")\n",
    "\n",
    "print(\"\\nWrong Predictions:\")\n",
    "for x, pred, actual in wrong_predictions:\n",
    "    print(f\"Data: {x}, Predicted: {data.target_names[pred]}, Actual: {data.target_names[actual]}\")"
   ]
  }
 ],
 "metadata": {
  "kernelspec": {
   "display_name": "Python 3",
   "language": "python",
   "name": "python3"
  },
  "language_info": {
   "codemirror_mode": {
    "name": "ipython",
    "version": 3
   },
   "file_extension": ".py",
   "mimetype": "text/x-python",
   "name": "python",
   "nbconvert_exporter": "python",
   "pygments_lexer": "ipython3",
   "version": "3.12.3"
  }
 },
 "nbformat": 4,
 "nbformat_minor": 2
}
